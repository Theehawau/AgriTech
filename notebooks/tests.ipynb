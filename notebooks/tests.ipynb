{
 "cells": [
  {
   "cell_type": "code",
   "execution_count": 1,
   "id": "93092faa-02b4-4c08-b76d-9a6ff06634ba",
   "metadata": {},
   "outputs": [],
   "source": [
    "import pandas as pd\n",
    "db = pd.read_csv('../metadata.csv')"
   ]
  },
  {
   "cell_type": "code",
   "execution_count": 79,
   "id": "197ba8ef-f1bc-463e-b81c-1d6fba85ec1e",
   "metadata": {},
   "outputs": [],
   "source": [
    "import ast\n",
    "import traceback"
   ]
  },
  {
   "cell_type": "code",
   "execution_count": 8,
   "id": "72fed259-8780-4ae6-a2ef-02ddc4f4c5b3",
   "metadata": {},
   "outputs": [],
   "source": [
    "from shapely.geometry import Polygon"
   ]
  },
  {
   "cell_type": "code",
   "execution_count": 34,
   "id": "53864f25-60b9-4e21-b82a-912d826d5815",
   "metadata": {
    "tags": []
   },
   "outputs": [
    {
     "data": {
      "text/plain": [
       "[-15730544, 10937407, -19027, -15691854, 10976097, 19663]"
      ]
     },
     "execution_count": 34,
     "metadata": {},
     "output_type": "execute_result"
    }
   ],
   "source": [
    "db['bounds'] = db[['bounds']].applymap(lambda x: ast.literal_eval(x), na_action='ignore')\n",
    "db['bounds'][0]"
   ]
  },
  {
   "cell_type": "code",
   "execution_count": 38,
   "id": "9a07ceaf-7439-4d32-a111-f7c4e68123a7",
   "metadata": {},
   "outputs": [],
   "source": [
    "def get_polygon(bounds:list):\n",
    "    if len(bounds) == 6:\n",
    "        minx, miny, maxx, maxy = [bounds[0],bounds[1],bounds[3],bounds[4]]\n",
    "        polygon = Polygon(((minx, miny), (minx, maxy), (maxx, maxy), (maxx, miny), (minx, miny)))\n",
    "    return polygon"
   ]
  },
  {
   "cell_type": "code",
   "execution_count": 39,
   "id": "76d4e46b-8b98-466c-8d39-fbce7a320c46",
   "metadata": {},
   "outputs": [
    {
     "data": {
      "image/svg+xml": [
       "<svg xmlns=\"http://www.w3.org/2000/svg\" xmlns:xlink=\"http://www.w3.org/1999/xlink\" width=\"300\" height=\"300\" viewBox=\"-15732091.6 10935859.4 41785.199999999255 41785.199999999255\" preserveAspectRatio=\"xMinYMin meet\"><g transform=\"matrix(1,0,0,-1,0,21913504.0)\"><path fill-rule=\"evenodd\" fill=\"#66cc99\" stroke=\"#555555\" stroke-width=\"278.56799999999504\" opacity=\"0.6\" d=\"M -15730544.0,10937407.0 L -15730544.0,10976097.0 L -15691854.0,10976097.0 L -15691854.0,10937407.0 L -15730544.0,10937407.0 z\" /></g></svg>"
      ],
      "text/plain": [
       "<shapely.geometry.polygon.Polygon at 0x7fefc041b2e0>"
      ]
     },
     "execution_count": 39,
     "metadata": {},
     "output_type": "execute_result"
    }
   ],
   "source": [
    "db['polygon'] = db[['bounds']].applymap(lambda x: get_polygon(x), na_action='ignore')\n",
    "db['polygon'][0]"
   ]
  },
  {
   "cell_type": "code",
   "execution_count": 44,
   "id": "1b70a8d1-fc5a-484c-aa7f-24ed84b4f472",
   "metadata": {},
   "outputs": [],
   "source": [
    "db['region'] = db[['region']].applymap(lambda x: x.replace('/',''), na_action='ignore' )"
   ]
  },
  {
   "cell_type": "code",
   "execution_count": 46,
   "id": "f11d07e9-e0b9-47a3-80c8-f154b8466493",
   "metadata": {},
   "outputs": [],
   "source": [
    "db.rename(columns={'location':'url'}, inplace=True)"
   ]
  },
  {
   "cell_type": "code",
   "execution_count": 71,
   "id": "a043b0dc-bad9-49de-ad3f-a646d555c321",
   "metadata": {},
   "outputs": [],
   "source": [
    "db.to_csv('data.csv',index=False)"
   ]
  },
  {
   "cell_type": "code",
   "execution_count": 70,
   "id": "9233191b-84d4-4ff3-83f0-04167d412e0f",
   "metadata": {},
   "outputs": [
    {
     "data": {
      "text/html": [
       "<div>\n",
       "<style scoped>\n",
       "    .dataframe tbody tr th:only-of-type {\n",
       "        vertical-align: middle;\n",
       "    }\n",
       "\n",
       "    .dataframe tbody tr th {\n",
       "        vertical-align: top;\n",
       "    }\n",
       "\n",
       "    .dataframe thead th {\n",
       "        text-align: right;\n",
       "    }\n",
       "</style>\n",
       "<table border=\"1\" class=\"dataframe\">\n",
       "  <thead>\n",
       "    <tr style=\"text-align: right;\">\n",
       "      <th></th>\n",
       "      <th>region</th>\n",
       "      <th>url</th>\n",
       "      <th>bounds</th>\n",
       "      <th>polygon</th>\n",
       "    </tr>\n",
       "  </thead>\n",
       "  <tbody>\n",
       "    <tr>\n",
       "      <th>0</th>\n",
       "      <td>AK_Coastal_2009</td>\n",
       "      <td>https://s3-us-west-2.amazonaws.com/usgs-lidar-...</td>\n",
       "      <td>[-15730544, 10937407, -19027, -15691854, 10976...</td>\n",
       "      <td>POLYGON ((-15730544 10937407, -15730544 109760...</td>\n",
       "    </tr>\n",
       "    <tr>\n",
       "      <th>1</th>\n",
       "      <td>AK_Fairbanks-NSBorough_2010</td>\n",
       "      <td>https://s3-us-west-2.amazonaws.com/usgs-lidar-...</td>\n",
       "      <td>[-16471700, 9519129, -45314, -16381190, 960963...</td>\n",
       "      <td>POLYGON ((-16471700 9519129, -16471700 9609639...</td>\n",
       "    </tr>\n",
       "    <tr>\n",
       "      <th>2</th>\n",
       "      <td>AK_Juneau_2012</td>\n",
       "      <td>https://s3-us-west-2.amazonaws.com/usgs-lidar-...</td>\n",
       "      <td>[-15014449, 8012267, -35030, -14943073, 808364...</td>\n",
       "      <td>POLYGON ((-15014449 8012267, -15014449 8083643...</td>\n",
       "    </tr>\n",
       "    <tr>\n",
       "      <th>3</th>\n",
       "      <td>AK_Kenai_2008</td>\n",
       "      <td>https://s3-us-west-2.amazonaws.com/usgs-lidar-...</td>\n",
       "      <td>[-16906356, 8303726, -166851, -16570284, 86397...</td>\n",
       "      <td>POLYGON ((-16906356 8303726, -16906356 8639798...</td>\n",
       "    </tr>\n",
       "    <tr>\n",
       "      <th>4</th>\n",
       "      <td>AK_MatanuskaSusitna-Lot1_2011</td>\n",
       "      <td>https://s3-us-west-2.amazonaws.com/usgs-lidar-...</td>\n",
       "      <td>[-16782341, 8663224, -51435, -16678201, 876736...</td>\n",
       "      <td>POLYGON ((-16782341 8663224, -16782341 8767364...</td>\n",
       "    </tr>\n",
       "  </tbody>\n",
       "</table>\n",
       "</div>"
      ],
      "text/plain": [
       "                          region  \\\n",
       "0                AK_Coastal_2009   \n",
       "1    AK_Fairbanks-NSBorough_2010   \n",
       "2                 AK_Juneau_2012   \n",
       "3                  AK_Kenai_2008   \n",
       "4  AK_MatanuskaSusitna-Lot1_2011   \n",
       "\n",
       "                                                 url  \\\n",
       "0  https://s3-us-west-2.amazonaws.com/usgs-lidar-...   \n",
       "1  https://s3-us-west-2.amazonaws.com/usgs-lidar-...   \n",
       "2  https://s3-us-west-2.amazonaws.com/usgs-lidar-...   \n",
       "3  https://s3-us-west-2.amazonaws.com/usgs-lidar-...   \n",
       "4  https://s3-us-west-2.amazonaws.com/usgs-lidar-...   \n",
       "\n",
       "                                              bounds  \\\n",
       "0  [-15730544, 10937407, -19027, -15691854, 10976...   \n",
       "1  [-16471700, 9519129, -45314, -16381190, 960963...   \n",
       "2  [-15014449, 8012267, -35030, -14943073, 808364...   \n",
       "3  [-16906356, 8303726, -166851, -16570284, 86397...   \n",
       "4  [-16782341, 8663224, -51435, -16678201, 876736...   \n",
       "\n",
       "                                             polygon  \n",
       "0  POLYGON ((-15730544 10937407, -15730544 109760...  \n",
       "1  POLYGON ((-16471700 9519129, -16471700 9609639...  \n",
       "2  POLYGON ((-15014449 8012267, -15014449 8083643...  \n",
       "3  POLYGON ((-16906356 8303726, -16906356 8639798...  \n",
       "4  POLYGON ((-16782341 8663224, -16782341 8767364...  "
      ]
     },
     "execution_count": 70,
     "metadata": {},
     "output_type": "execute_result"
    }
   ],
   "source": [
    "db.head(5)"
   ]
  },
  {
   "cell_type": "code",
   "execution_count": 49,
   "id": "87153d48-a320-4bce-ae99-641e751aa5e6",
   "metadata": {},
   "outputs": [],
   "source": [
    "MINX, MINY, MAXX, MAXY =[-10758075, 4793202, -10034133, 5517144]"
   ]
  },
  {
   "cell_type": "code",
   "execution_count": 50,
   "id": "d95985e2-f062-4263-b2fd-16944b15af52",
   "metadata": {},
   "outputs": [],
   "source": [
    "polygon = Polygon(((MINX, MINY), (MINX, MAXY), (MAXX, MAXY), (MAXX, MINY), (MINX, MINY)))\n"
   ]
  },
  {
   "cell_type": "code",
   "execution_count": 67,
   "id": "154d48b8-b500-486c-9c8a-a990ea77bb72",
   "metadata": {},
   "outputs": [],
   "source": [
    "testpolygon = db['polygon'][4]"
   ]
  },
  {
   "cell_type": "code",
   "execution_count": 72,
   "id": "396d3ec0-215c-4b99-b9c1-65fb68cc0cc5",
   "metadata": {},
   "outputs": [],
   "source": [
    "bd =[-93.756155, 41.918015, -93.747334, 41.921429]\n",
    "MINX, MINY, MAXX, MAXY = bd\n",
    "polygon = Polygon(((MINX, MINY), (MINX, MAXY), (MAXX, MAXY), (MAXX, MINY), (MINX, MINY)))"
   ]
  },
  {
   "cell_type": "code",
   "execution_count": 74,
   "id": "0601685b-e22c-4ebf-b872-1b44a5f8ce2d",
   "metadata": {},
   "outputs": [],
   "source": [
    "b = ([-10425171.940, -10423171.940], [5164494.710, 5166494.710])"
   ]
  },
  {
   "cell_type": "code",
   "execution_count": 76,
   "id": "a312d2c8-36aa-4c95-87d2-bb14b7347d50",
   "metadata": {},
   "outputs": [],
   "source": [
    "b[0][0]\n",
    "MINX, MINY, MAXX, MAXY = [b[0][0],b[1][0],b[0][1],b[1][1]]"
   ]
  },
  {
   "cell_type": "code",
   "execution_count": 68,
   "id": "c23f3aef-c215-46c7-8e08-0c5ee9128ed4",
   "metadata": {},
   "outputs": [
    {
     "name": "stdout",
     "output_type": "stream",
     "text": [
      "AK_MatanuskaSusitna-Lot1_2011\n"
     ]
    }
   ],
   "source": [
    "reg=''\n",
    "url=''\n",
    "for i,r,u,p in db[['region','url','polygon']].head(5).itertuples():\n",
    "    if p.contains(testpolygon):\n",
    "        reg=r\n",
    "        url=u\n",
    "        break\n",
    "print(reg)       "
   ]
  },
  {
   "cell_type": "code",
   "execution_count": 109,
   "id": "c2b20cfc-911a-4583-b4cd-af0a0e015507",
   "metadata": {},
   "outputs": [],
   "source": [
    "def validate_bound(b:tuple,data):\n",
    "        MINX, MINY, MAXX, MAXY = [b[0][0],b[1][0],b[0][1],b[1][1]]\n",
    "        polygon = Polygon(((MINX, MINY), (MINX, MAXY), (MAXX, MAXY), (MAXX, MINY), (MINX, MINY)))\n",
    "        db = pd.read_csv(data)\n",
    "        db['bounds'] = db[['bounds']].applymap(lambda x: ast.literal_eval(x), na_action='ignore')\n",
    "        db['polygon'] = db[['bounds']].applymap(lambda x: get_polygon(x), na_action='ignore')\n",
    "        try:\n",
    "            for i,r,u,p in db[['region','url','polygon']].itertuples():\n",
    "                if p.contains(polygon):\n",
    "                    return(True,r,u,bounds) \n",
    "            return(False,'bound specified not in any known region')\n",
    "        except Exception:\n",
    "            print(\"Error Occured for\")\n",
    "            traceback.print_exc()\n"
   ]
  },
  {
   "cell_type": "code",
   "execution_count": 110,
   "id": "fbc77a90-a2e5-423c-8f98-e96e4af53b53",
   "metadata": {},
   "outputs": [
    {
     "data": {
      "text/plain": [
       "(True,\n",
       " 'IA_FullState',\n",
       " 'https://s3-us-west-2.amazonaws.com/usgs-lidar-public/IA_FullState/ept.json',\n",
       " [-10758075, 4793202, -361911, -10034133, 5517144, 362031])"
      ]
     },
     "execution_count": 110,
     "metadata": {},
     "output_type": "execute_result"
    }
   ],
   "source": [
    "validate_bound(b,'data.csv')"
   ]
  },
  {
   "cell_type": "code",
   "execution_count": null,
   "id": "46edf121-05ae-4698-a1bb-70de7b82d14b",
   "metadata": {},
   "outputs": [],
   "source": [
    "def create_pipeline(self,pipeline_path:str ,bounds:str,region:str,location:str) -> None :\n",
    "        try:\n",
    "            pipeline_json = json.load(open(pipeline_path))\n",
    "            pipeline_json['pipeline'][0]['bounds'] = bounds\n",
    "            pipeline_json['pipeline'][0]['filename'] = location\n",
    "            self.pipeline_json = pipeline_json\n",
    "            self.tiff_path = pipeline_json['pipeline'][5]['filename']\n",
    "            self.shp_filename = os.path.splitext(os.path.split(self.tiff_path)[1])[0]\n",
    "        except Exception:\n",
    "            print(\"Error Occured\")\n",
    "            traceback.print_exc()\n",
    "            "
   ]
  }
 ],
 "metadata": {
  "kernelspec": {
   "display_name": "Python 3 (ipykernel)",
   "language": "python",
   "name": "python3"
  },
  "language_info": {
   "codemirror_mode": {
    "name": "ipython",
    "version": 3
   },
   "file_extension": ".py",
   "mimetype": "text/x-python",
   "name": "python",
   "nbconvert_exporter": "python",
   "pygments_lexer": "ipython3",
   "version": "3.9.5"
  }
 },
 "nbformat": 4,
 "nbformat_minor": 5
}
