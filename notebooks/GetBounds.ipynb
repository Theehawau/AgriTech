{
 "cells": [
  {
   "cell_type": "code",
   "execution_count": 1,
   "id": "ce225c3a-e564-4944-979b-6288f9bf96af",
   "metadata": {},
   "outputs": [],
   "source": [
    "import GetBounds"
   ]
  },
  {
   "cell_type": "code",
   "execution_count": 2,
   "id": "7145633f-363b-41c1-a93c-99a5079fce41",
   "metadata": {},
   "outputs": [],
   "source": [
    "getbounds = GetBounds.get_bounds_region('filename.txt')"
   ]
  },
  {
   "cell_type": "code",
   "execution_count": 3,
   "id": "8677b832-9605-4dc0-b54e-4a534df1c142",
   "metadata": {},
   "outputs": [
    {
     "name": "stdout",
     "output_type": "stream",
     "text": [
      "Getting location to region names...\n",
      "Successful\n"
     ]
    }
   ],
   "source": [
    "getbounds.get_region_to_location()"
   ]
  },
  {
   "cell_type": "code",
   "execution_count": 4,
   "id": "4e17ef5e-16e9-4bb0-a39b-ad8391bb0f05",
   "metadata": {
    "tags": []
   },
   "outputs": [
    {
     "name": "stdout",
     "output_type": "stream",
     "text": [
      "Getting bounds to region names\n",
      "Error occured couldn't find bounds for USGS_LPC_CA_NoCAL_Wildfires_PlumasNF_B2_2018/\n",
      "Error occured couldn't find bounds for USGS_LPC_WA_Western_North_2016_LAS_2018/\n",
      "Error occured couldn't find bounds for USGS_LPC_WA_Western_South_2016_LAS_2018/\n",
      "Successful\n"
     ]
    }
   ],
   "source": [
    "getbounds.get_region_bounds()"
   ]
  },
  {
   "cell_type": "code",
   "execution_count": 5,
   "id": "5dd1d6f5-f952-4d2b-824e-b7b22c9a08b5",
   "metadata": {},
   "outputs": [
    {
     "name": "stdout",
     "output_type": "stream",
     "text": [
      "Saving file to metadata.csv ...\n",
      "File saved successfully\n"
     ]
    }
   ],
   "source": [
    "getbounds.save_data()"
   ]
  }
 ],
 "metadata": {
  "kernelspec": {
   "display_name": "Python 3 (ipykernel)",
   "language": "python",
   "name": "python3"
  },
  "language_info": {
   "codemirror_mode": {
    "name": "ipython",
    "version": 3
   },
   "file_extension": ".py",
   "mimetype": "text/x-python",
   "name": "python",
   "nbconvert_exporter": "python",
   "pygments_lexer": "ipython3",
   "version": "3.9.5"
  }
 },
 "nbformat": 4,
 "nbformat_minor": 5
}
