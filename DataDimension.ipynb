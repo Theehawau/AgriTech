{
 "cells": [
  {
   "cell_type": "code",
   "execution_count": 1,
   "id": "81839337-6921-499c-a75a-4e23fdeba655",
   "metadata": {},
   "outputs": [],
   "source": [
    "from GetDimension import GetDimensionFromBounds"
   ]
  },
  {
   "cell_type": "code",
   "execution_count": 2,
   "id": "034fd6c6-6f30-4296-99a6-f3a217435d5f",
   "metadata": {},
   "outputs": [],
   "source": [
    "gd = GetDimensionFromBounds(([-10425171.940, -10423171.940], [5164494.710, 5166494.710]))"
   ]
  },
  {
   "cell_type": "code",
   "execution_count": 3,
   "id": "9587d90b-3086-428e-83cb-1597abbe21fb",
   "metadata": {},
   "outputs": [
    {
     "data": {
      "text/plain": [
       "([-10425171.94, -10423171.94], [5164494.71, 5166494.71])"
      ]
     },
     "execution_count": 3,
     "metadata": {},
     "output_type": "execute_result"
    }
   ],
   "source": [
    "gd.bounds"
   ]
  },
  {
   "cell_type": "code",
   "execution_count": 4,
   "id": "292daf06-1097-4312-bdd9-6a1c04329f54",
   "metadata": {},
   "outputs": [
    {
     "name": "stdout",
     "output_type": "stream",
     "text": [
      "Validating bounds:\n"
     ]
    },
    {
     "data": {
      "text/plain": [
       "(True,\n",
       " 'IA_FullState',\n",
       " 'https://s3-us-west-2.amazonaws.com/usgs-lidar-public/IA_FullState/ept.json',\n",
       " ([-10425171.94, -10423171.94], [5164494.71, 5166494.71]))"
      ]
     },
     "execution_count": 4,
     "metadata": {},
     "output_type": "execute_result"
    }
   ],
   "source": [
    "gd.validate_bound('data.csv')"
   ]
  },
  {
   "cell_type": "code",
   "execution_count": 5,
   "id": "886f3940-09f9-4733-a54b-9eb90a67e3bd",
   "metadata": {},
   "outputs": [
    {
     "name": "stdout",
     "output_type": "stream",
     "text": [
      "Creating Pipeline:\n"
     ]
    },
    {
     "data": {
      "text/plain": [
       "{'pipeline': [{'bounds': '([-10425171.94, -10423171.94], [5164494.71, 5166494.71])',\n",
       "   'filename': 'https://s3-us-west-2.amazonaws.com/usgs-lidar-public/IA_FullState/ept.json',\n",
       "   'type': 'readers.ept',\n",
       "   'tag': 'readdata'},\n",
       "  {'limits': 'Classification![7:7]',\n",
       "   'type': 'filters.range',\n",
       "   'tag': 'nonoise'},\n",
       "  {'assignment': 'Classification[:]=0',\n",
       "   'tag': 'wipeclasses',\n",
       "   'type': 'filters.assign'},\n",
       "  {'tag': 'groundify', 'type': 'filters.smrf'},\n",
       "  {'limits': 'Classification[2:2]',\n",
       "   'type': 'filters.range',\n",
       "   'tag': 'classify'},\n",
       "  {'filename': 'IA_FullState.laz',\n",
       "   'inputs': ['classify'],\n",
       "   'tag': 'writerslas',\n",
       "   'type': 'writers.las'},\n",
       "  {'filename': 'IA_FullState.tif',\n",
       "   'gdalopts': 'tiled=yes,     compress=deflate',\n",
       "   'inputs': ['writerslas'],\n",
       "   'nodata': -9999,\n",
       "   'output_type': 'idw',\n",
       "   'resolution': 1,\n",
       "   'type': 'writers.gdal',\n",
       "   'window_size': 6}]}"
      ]
     },
     "execution_count": 5,
     "metadata": {},
     "output_type": "execute_result"
    }
   ],
   "source": [
    "gd.create_pipeline()"
   ]
  },
  {
   "cell_type": "code",
   "execution_count": 6,
   "id": "23c08016-8cc6-4cec-8923-a91591f0dffd",
   "metadata": {
    "tags": []
   },
   "outputs": [
    {
     "name": "stdout",
     "output_type": "stream",
     "text": [
      "Executing pipeline:\n",
      "Feeding pipeline to pdal...\n",
      "Executing pipeline...\n"
     ]
    },
    {
     "data": {
      "text/plain": [
       "'Execution Successful,\\npoint cloud data saved as:/nIA_FullState.laz /nIA_FullState.tif'"
      ]
     },
     "execution_count": 6,
     "metadata": {},
     "output_type": "execute_result"
    }
   ],
   "source": [
    "gd.execute_pipeline()"
   ]
  },
  {
   "cell_type": "code",
   "execution_count": 7,
   "id": "31f16b0d-cbd7-48f7-989c-79f15a88a540",
   "metadata": {},
   "outputs": [
    {
     "name": "stdout",
     "output_type": "stream",
     "text": [
      "Creating Shape file:\n",
      "Reading tif file...\n",
      "creating shapefile...\n",
      "Shapefile Created..\n",
      "file saved here IA_FullState.shp\n"
     ]
    }
   ],
   "source": [
    "gd.create_shp()"
   ]
  },
  {
   "cell_type": "code",
   "execution_count": 8,
   "id": "377cfbdb-aef2-478c-8136-22f9253888eb",
   "metadata": {},
   "outputs": [
    {
     "name": "stdout",
     "output_type": "stream",
     "text": [
      "Reading shape file...\n"
     ]
    },
    {
     "data": {
      "text/html": [
       "<div>\n",
       "<style scoped>\n",
       "    .dataframe tbody tr th:only-of-type {\n",
       "        vertical-align: middle;\n",
       "    }\n",
       "\n",
       "    .dataframe tbody tr th {\n",
       "        vertical-align: top;\n",
       "    }\n",
       "\n",
       "    .dataframe thead th {\n",
       "        text-align: right;\n",
       "    }\n",
       "</style>\n",
       "<table border=\"1\" class=\"dataframe\">\n",
       "  <thead>\n",
       "    <tr style=\"text-align: right;\">\n",
       "      <th></th>\n",
       "      <th>elevation</th>\n",
       "      <th>geometry</th>\n",
       "    </tr>\n",
       "  </thead>\n",
       "  <tbody>\n",
       "    <tr>\n",
       "      <th>0</th>\n",
       "      <td>274.0</td>\n",
       "      <td>POINT (-10425143.440 5166494.710)</td>\n",
       "    </tr>\n",
       "    <tr>\n",
       "      <th>1</th>\n",
       "      <td>280.0</td>\n",
       "      <td>POINT (-10425127.440 5166494.710)</td>\n",
       "    </tr>\n",
       "    <tr>\n",
       "      <th>2</th>\n",
       "      <td>279.0</td>\n",
       "      <td>POINT (-10425125.940 5166494.710)</td>\n",
       "    </tr>\n",
       "    <tr>\n",
       "      <th>3</th>\n",
       "      <td>280.0</td>\n",
       "      <td>POINT (-10425123.440 5166494.710)</td>\n",
       "    </tr>\n",
       "    <tr>\n",
       "      <th>4</th>\n",
       "      <td>282.0</td>\n",
       "      <td>POINT (-10425116.940 5166495.210)</td>\n",
       "    </tr>\n",
       "    <tr>\n",
       "      <th>...</th>\n",
       "      <td>...</td>\n",
       "      <td>...</td>\n",
       "    </tr>\n",
       "    <tr>\n",
       "      <th>43062</th>\n",
       "      <td>274.0</td>\n",
       "      <td>POINT (-10423739.440 5164495.210)</td>\n",
       "    </tr>\n",
       "    <tr>\n",
       "      <th>43063</th>\n",
       "      <td>273.0</td>\n",
       "      <td>POINT (-10423640.440 5164495.210)</td>\n",
       "    </tr>\n",
       "    <tr>\n",
       "      <th>43064</th>\n",
       "      <td>274.0</td>\n",
       "      <td>POINT (-10423522.460 5165003.551)</td>\n",
       "    </tr>\n",
       "    <tr>\n",
       "      <th>43065</th>\n",
       "      <td>273.0</td>\n",
       "      <td>POINT (-10423201.000 5164781.770)</td>\n",
       "    </tr>\n",
       "    <tr>\n",
       "      <th>43066</th>\n",
       "      <td>272.0</td>\n",
       "      <td>POINT (-10423184.585 5164667.264)</td>\n",
       "    </tr>\n",
       "  </tbody>\n",
       "</table>\n",
       "<p>43067 rows × 2 columns</p>\n",
       "</div>"
      ],
      "text/plain": [
       "       elevation                           geometry\n",
       "0          274.0  POINT (-10425143.440 5166494.710)\n",
       "1          280.0  POINT (-10425127.440 5166494.710)\n",
       "2          279.0  POINT (-10425125.940 5166494.710)\n",
       "3          280.0  POINT (-10425123.440 5166494.710)\n",
       "4          282.0  POINT (-10425116.940 5166495.210)\n",
       "...          ...                                ...\n",
       "43062      274.0  POINT (-10423739.440 5164495.210)\n",
       "43063      273.0  POINT (-10423640.440 5164495.210)\n",
       "43064      274.0  POINT (-10423522.460 5165003.551)\n",
       "43065      273.0  POINT (-10423201.000 5164781.770)\n",
       "43066      272.0  POINT (-10423184.585 5164667.264)\n",
       "\n",
       "[43067 rows x 2 columns]"
      ]
     },
     "execution_count": 8,
     "metadata": {},
     "output_type": "execute_result"
    }
   ],
   "source": [
    "gd.get_dimensions()"
   ]
  }
 ],
 "metadata": {
  "kernelspec": {
   "display_name": "Python 3 (ipykernel)",
   "language": "python",
   "name": "python3"
  },
  "language_info": {
   "codemirror_mode": {
    "name": "ipython",
    "version": 3
   },
   "file_extension": ".py",
   "mimetype": "text/x-python",
   "name": "python",
   "nbconvert_exporter": "python",
   "pygments_lexer": "ipython3",
   "version": "3.9.5"
  }
 },
 "nbformat": 4,
 "nbformat_minor": 5
}
